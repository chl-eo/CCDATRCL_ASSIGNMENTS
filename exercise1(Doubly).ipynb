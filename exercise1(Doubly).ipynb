class Node:
  def __init__(self, data):
    self.data = data
    self.next = None
    self.prev = None #added previous node

class DoublyLinkedList:
  def __init__(self):
    self.head = None

  def traverse(self, node):
        while node:
            print(node.data, end="")

            #added a conditional statement so there will no arrow at the end of the data
            if node.next:
                print(" -> ", end="")
            node = node.next

dLinkedList = DoublyLinkedList()

#seatmate nodes
dLinkedList.head = Node("Mary")
node_seatmate2 = Node("Yana")
node_seatmate3 = Node("Marga")
node_seatmate4 = Node("Ruth")
node_seatmate5 = Node("Bea")

#connect the data with previous and next node
dLinkedList.head.prev = None
dLinkedList.head.next = node_seatmate2

node_seatmate2.prev = dLinkedList.head
node_seatmate2.next = node_seatmate3

node_seatmate3.prev = node_seatmate2
node_seatmate3.next = node_seatmate4

node_seatmate4.prev = node_seatmate3
node_seatmate4.next = node_seatmate5

node_seatmate5.prev = node_seatmate4
node_seatmate5.next = None

print("The 'head' seatmate is: ", dLinkedList.head.data)
print("The next seatmate after the 'head' is: ", dLinkedList.head.next.data)

print("♡♡♡♡♡" + "\n")

print("This seatmate is: ", node_seatmate2.data)
print("The previous seatmate is: ", node_seatmate2.prev.data)
print("The next seatmate is: ", node_seatmate2.next.data)

print("♡♡♡♡♡" + "\n")

print("This seatmate is: ", node_seatmate3.data)
print("The previous seatmate is: ", node_seatmate3.prev.data)
print("The next seatmate is: ", node_seatmate3.next.data)

print("♡♡♡♡♡" + "\n")

print("This seatmate is: ", node_seatmate4.data)
print("The previous seatmate is: ", node_seatmate4.prev.data)
print("The next seatmate is: ", node_seatmate4.next.data)

print("♡♡♡♡♡" + "\n")

print("This seatmate is: ", node_seatmate5.data)
print("The previous seatmate is: ", node_seatmate5.prev.data)
print("The next seatmate is: ", None)

print("♡♡♡♡♡" + "\n")

dLinkedList.traverse(dLinkedList.head)
