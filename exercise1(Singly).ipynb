class Node:
    def __init__(self, data):
        self.data = data
        self.next = None

class SinglyLinkedList:
    def __init__(self):
        self.head = None

    def traverse(self, node):
        while node:
            print(node.data, end="")

            #added a conditional statement so there will be no arrow at the end of the data
            if node.next:
                print(" -> ", end="")
            node = node.next

sLinkedList = SinglyLinkedList()

#seatmate nodes
sLinkedList.head = Node("Mary")
node_seatmate2 = Node("Yana")
node_seatmate3 = Node("Marga")
node_seatmate4 = Node("Ruth")
node_seatmate5 = Node("Bea")

#connect the data
sLinkedList.head.next = node_seatmate2
node_seatmate2.next = node_seatmate3
node_seatmate3.next = node_seatmate4
node_seatmate4.next = node_seatmate5

sLinkedList.traverse(sLinkedList.head)
