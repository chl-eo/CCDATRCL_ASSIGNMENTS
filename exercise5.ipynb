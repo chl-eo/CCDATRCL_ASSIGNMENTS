{
  "cells": [
    {
      "cell_type": "markdown",
      "metadata": {
        "id": "view-in-github",
        "colab_type": "text"
      },
      "source": [
        "<a href=\"https://colab.research.google.com/github/chl-eo/CCDATRCL_ASSIGNMENTS_COM222/blob/main/exercise5.ipynb\" target=\"_parent\"><img src=\"https://colab.research.google.com/assets/colab-badge.svg\" alt=\"Open In Colab\"/></a>"
      ]
    },
    {
      "cell_type": "markdown",
      "metadata": {
        "id": "Iy2i517B9Bf-"
      },
      "source": [
        "# Exercise 5"
      ]
    },
    {
      "cell_type": "markdown",
      "metadata": {
        "id": "Gu-9gJWN9BgB"
      },
      "source": [
        "#### 1. Create a dictionary of your 10 favorite songs."
      ]
    },
    {
      "cell_type": "markdown",
      "metadata": {
        "id": "tb3wlFOg9BgB"
      },
      "source": [
        "Example:\n",
        "\n",
        "|KEY|VALUE|\n",
        "|---|---|\n",
        "|001|My Love|\n",
        "|002|Like a rose|"
      ]
    },
    {
      "cell_type": "code",
      "execution_count": 3,
      "metadata": {
        "id": "qD1iuaBO9BgC",
        "colab": {
          "base_uri": "https://localhost:8080/"
        },
        "outputId": "f98bec08-d20b-4feb-dfd6-023c26af15e5"
      },
      "outputs": [
        {
          "output_type": "execute_result",
          "data": {
            "text/plain": [
              "{'001': 'Spread Thin',\n",
              " '002': 'Slime you out',\n",
              " '003': '2AM',\n",
              " '004': 'Stay Ready',\n",
              " '005': 'Always',\n",
              " '006': 'Repeat After Me',\n",
              " '007': \"Look What You've Done\",\n",
              " '008': 'Y.D.L.R',\n",
              " '009': 'MIDDLE CHILD',\n",
              " '010': 'Hate the Club'}"
            ]
          },
          "metadata": {},
          "execution_count": 3
        }
      ],
      "source": [
        "FavoriteSongs = {\n",
        "    \"001\": \"Spread Thin\",\n",
        "    \"002\": \"Slime you out\",\n",
        "    \"003\": \"2AM\",\n",
        "    \"004\": \"Stay Ready\",\n",
        "    \"005\": \"Always\",\n",
        "    \"006\": \"Repeat After Me\",\n",
        "    \"007\": \"Look What You've Done\",\n",
        "    \"008\": \"Y.D.L.R\",\n",
        "    \"009\": \"MIDDLE CHILD\",\n",
        "    \"010\": \"Hate the Club\"\n",
        "}\n",
        "FavoriteSongs"
      ]
    },
    {
      "cell_type": "markdown",
      "metadata": {
        "id": "D0K36zjU9BgD"
      },
      "source": [
        "#### 2. Loop through the dictionary by its **key** and **value**"
      ]
    },
    {
      "cell_type": "code",
      "execution_count": 4,
      "metadata": {
        "id": "RFGdgttZ9BgD",
        "colab": {
          "base_uri": "https://localhost:8080/"
        },
        "outputId": "e4a9f4b7-b226-4cbb-ab9e-bbd2da668e16"
      },
      "outputs": [
        {
          "output_type": "stream",
          "name": "stdout",
          "text": [
            "001 : Spread Thin\n",
            "002 : Slime you out\n",
            "003 : 2AM\n",
            "004 : Stay Ready\n",
            "005 : Always\n",
            "006 : Repeat After Me\n",
            "007 : Look What You've Done\n",
            "008 : Y.D.L.R\n",
            "009 : MIDDLE CHILD\n",
            "010 : Hate the Club\n"
          ]
        }
      ],
      "source": [
        "for i,j in FavoriteSongs.items():\n",
        "   print(i, \":\", j)"
      ]
    },
    {
      "cell_type": "markdown",
      "metadata": {
        "id": "4iUBXjnk9BgD"
      },
      "source": [
        "#### 3. Add one additional song"
      ]
    },
    {
      "cell_type": "code",
      "execution_count": 5,
      "metadata": {
        "id": "xhiKkdwW9BgD",
        "colab": {
          "base_uri": "https://localhost:8080/"
        },
        "outputId": "38761786-b650-4864-f2b2-cb037d162bbf"
      },
      "outputs": [
        {
          "output_type": "execute_result",
          "data": {
            "text/plain": [
              "{'001': 'Spread Thin',\n",
              " '002': 'Slime you out',\n",
              " '003': '2AM',\n",
              " '004': 'Stay Ready',\n",
              " '005': 'Always',\n",
              " '006': 'Repeat After Me',\n",
              " '007': \"Look What You've Done\",\n",
              " '008': 'Y.D.L.R',\n",
              " '009': 'MIDDLE CHILD',\n",
              " '010': 'Hate the Club',\n",
              " '011': 'LMK'}"
            ]
          },
          "metadata": {},
          "execution_count": 5
        }
      ],
      "source": [
        "FavoriteSongs [\"011\"] = \"LMK\"\n",
        "FavoriteSongs"
      ]
    },
    {
      "cell_type": "markdown",
      "metadata": {
        "id": "Jd531ysJ9BgE"
      },
      "source": [
        "#### 4. Remove one song"
      ]
    },
    {
      "cell_type": "code",
      "execution_count": 6,
      "metadata": {
        "id": "qV268vSM9BgE",
        "colab": {
          "base_uri": "https://localhost:8080/"
        },
        "outputId": "2cc76de4-a352-45f0-caae-4af4422767e4"
      },
      "outputs": [
        {
          "output_type": "execute_result",
          "data": {
            "text/plain": [
              "{'001': 'Spread Thin',\n",
              " '002': 'Slime you out',\n",
              " '003': '2AM',\n",
              " '004': 'Stay Ready',\n",
              " '005': 'Always',\n",
              " '006': 'Repeat After Me',\n",
              " '007': \"Look What You've Done\",\n",
              " '009': 'MIDDLE CHILD',\n",
              " '010': 'Hate the Club',\n",
              " '011': 'LMK'}"
            ]
          },
          "metadata": {},
          "execution_count": 6
        }
      ],
      "source": [
        "FavoriteSongs.pop(\"008\")\n",
        "FavoriteSongs"
      ]
    },
    {
      "cell_type": "markdown",
      "metadata": {
        "id": "JO2KMdDA9BgE"
      },
      "source": [
        "#### 5. Create a nested dictionary of your 10 favorite songs with 5 genres. Display all of the items of the nested dictionary\n",
        "\n",
        "- Each nested dictionary's key should be the genre of the song\n",
        "- Put each song in their respective genre"
      ]
    },
    {
      "cell_type": "markdown",
      "metadata": {
        "id": "ikY2mgj19BgE"
      },
      "source": [
        "Example:\n",
        "\n",
        "\n",
        "|KEY|VALUE|\n",
        "|---|---|\n",
        "|Pop|{001, Baby}|\n",
        "|Rock|{001, Enter Sandman}|"
      ]
    },
    {
      "cell_type": "code",
      "execution_count": 7,
      "metadata": {
        "id": "I_s31_FV9BgE",
        "colab": {
          "base_uri": "https://localhost:8080/"
        },
        "outputId": "452b9664-52a9-444d-f282-ac58e7d42b12"
      },
      "outputs": [
        {
          "output_type": "execute_result",
          "data": {
            "text/plain": [
              "{'Rap': {'001': 'Do not Disturb', '002': 'Deja Vu'},\n",
              " 'R&B': {'001': 'Snooze', '002': 'Girls Needs Love'},\n",
              " 'Alternative': {'001': 'Party Monster', '002': 'Try Me'},\n",
              " 'Soul': {'001': 'Wading', '002': 'Who Hurt You'}}"
            ]
          },
          "metadata": {},
          "execution_count": 7
        }
      ],
      "source": [
        "FavGenreSongs = {\n",
        "    \"Rap\": {\n",
        "        \"001\" : \"Do not Disturb\",\n",
        "        \"002\" : \"Deja Vu\"\n",
        "    },\n",
        "    \"R&B\" : {\n",
        "        \"001\" : \"Snooze\",\n",
        "        \"002\" : \"Girls Needs Love\"\n",
        "    },\n",
        "     \"Alternative\" : {\n",
        "        \"001\" : \"Party Monster\",\n",
        "        \"002\" : \"Try Me\"\n",
        "    },\n",
        "     \"Soul\" : {\n",
        "        \"001\" : \"Wading\",\n",
        "        \"002\" : \"Who Hurt You\"\n",
        "    },\n",
        "}\n",
        "FavGenreSongs"
      ]
    },
    {
      "cell_type": "markdown",
      "metadata": {
        "id": "R4FJe5Rk9BgF"
      },
      "source": [
        "#### 6. Print the first song of the first genre"
      ]
    },
    {
      "cell_type": "code",
      "execution_count": 8,
      "metadata": {
        "id": "V6rSMPI49BgF",
        "colab": {
          "base_uri": "https://localhost:8080/"
        },
        "outputId": "09ec45b8-d882-4bdc-b81f-088d3fb95f50"
      },
      "outputs": [
        {
          "output_type": "stream",
          "name": "stdout",
          "text": [
            "Do not Disturb\n"
          ]
        }
      ],
      "source": [
        "print(FavGenreSongs[\"Rap\"][\"001\"])\n"
      ]
    },
    {
      "cell_type": "markdown",
      "metadata": {
        "id": "UAfdECCz9BgF"
      },
      "source": [
        "#### 7. Print the first song of the last genre"
      ]
    },
    {
      "cell_type": "code",
      "execution_count": 9,
      "metadata": {
        "id": "-bAOFUnh9BgF",
        "colab": {
          "base_uri": "https://localhost:8080/"
        },
        "outputId": "c3d126ae-84f7-4442-b92d-6c3f5d123589"
      },
      "outputs": [
        {
          "output_type": "stream",
          "name": "stdout",
          "text": [
            "Wading\n"
          ]
        }
      ],
      "source": [
        "print(FavGenreSongs[\"Soul\"][\"001\"])"
      ]
    }
  ],
  "metadata": {
    "kernelspec": {
      "display_name": "Python 3",
      "language": "python",
      "name": "python3"
    },
    "language_info": {
      "codemirror_mode": {
        "name": "ipython",
        "version": 3
      },
      "file_extension": ".py",
      "mimetype": "text/x-python",
      "name": "python",
      "nbconvert_exporter": "python",
      "pygments_lexer": "ipython3",
      "version": "3.11.4"
    },
    "orig_nbformat": 4,
    "colab": {
      "provenance": [],
      "include_colab_link": true
    }
  },
  "nbformat": 4,
  "nbformat_minor": 0
}