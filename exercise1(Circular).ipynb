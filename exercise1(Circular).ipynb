class Node:
  def __init__(self,data):
    self.data = data
    self.next = None

class CircularLinkedList:
  def __init__(self):
    self.head = None

  def traverse(self, node):
    head = node

    while node:
      print(node.data, end=" -> ")
      node = node.next

      """
      conditional statement that states if the loop is equal to "head", it will
      print "cLinkedList.head.data" or our seatmate "Mary". Theres also a "break"
      key word so it will stop the loop if the condition is met.
      """
      if node == head:
        print(cLinkedList.head.data)
        break

cLinkedList = CircularLinkedList()

#seatmate nodes
cLinkedList.head = Node("Mary")
node_seatmate2 = Node("Yana")
node_seatmate3 = Node("Marga")
node_seatmate4 = Node("Ruth")
node_seatmate5 = Node("Bea")

#connect the data to circular pattern
cLinkedList.head.next = node_seatmate2
node_seatmate2.next = node_seatmate3
node_seatmate3.next = node_seatmate4
node_seatmate4.next = node_seatmate5
node_seatmate5.next = cLinkedList.head

print("The 'head' seatmate is: ", cLinkedList.head.data)
print("The next seatmate after the 'head' is: ", cLinkedList.head.next.data)

print("♡♡♡♡♡" + "\n")

print("This seatmate is: ", node_seatmate2.data)
print("The next seatmate is: ", node_seatmate2.next.data)

print("♡♡♡♡♡" + "\n")

print("This seatmate is: ", node_seatmate3.data)
print("The next seatmate is: ", node_seatmate3.next.data)

print("♡♡♡♡♡" + "\n")

print("This seatmate is: ", node_seatmate4.data)
print("The next seatmate is: ", node_seatmate4.next.data)

print("♡♡♡♡♡" + "\n")

print("This seatmate is: ", node_seatmate5.data)
print("The next seatmate is: ", cLinkedList.head.data)

print("♡♡♡♡♡" + "\n")

cLinkedList.traverse(cLinkedList.head)
